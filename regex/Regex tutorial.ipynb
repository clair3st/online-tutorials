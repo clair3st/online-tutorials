{
 "cells": [
  {
   "cell_type": "markdown",
   "metadata": {},
   "source": [
    "# Regex Tutorial\n",
    "https://regexone.com/\n"
   ]
  },
  {
   "cell_type": "markdown",
   "metadata": {},
   "source": [
    "### Problem 1: Intro\n",
    "Match the following with regex pattern:\n",
    "```\n",
    "abcdefg\n",
    "abcde\n",
    "abc\n",
    "```\n",
    "\n"
   ]
  },
  {
   "cell_type": "markdown",
   "metadata": {},
   "source": [
    "`abc` would match with all 3"
   ]
  },
  {
   "cell_type": "markdown",
   "metadata": {
    "collapsed": true
   },
   "source": [
    "### Problem 1/2: The 123s\n",
    "Match the following with regex pattern:\n",
    "```\t \n",
    "Match\tabc123xyz\n",
    "Match\tdefine \"123\"\n",
    "Match\tvar g = 123\n",
    "```"
   ]
  },
  {
   "cell_type": "markdown",
   "metadata": {},
   "source": [
    "\\d can be used in place of any digit from 0 to 9"
   ]
  },
  {
   "cell_type": "markdown",
   "metadata": {},
   "source": [
    "### Problem 2: The Dot\n",
    "```\n",
    "Match\tcat.\t\n",
    "Match\t896.\t\n",
    "Match\t?=+.\n",
    "Skip\tabc1```"
   ]
  },
  {
   "cell_type": "markdown",
   "metadata": {},
   "source": [
    "wildcard, which is represented by the . (dot) metacharacter, and can match any single character (letter, digit, whitespace, everything). You may notice that this actually overrides the matching of the period character, so in order to specifically match a period, you need to escape the dot by using a slash \\. accordingly."
   ]
  },
  {
   "cell_type": "markdown",
   "metadata": {},
   "source": [
    "### Matching specifc characters"
   ]
  },
  {
   "cell_type": "markdown",
   "metadata": {},
   "source": [
    "There is a method for matching specific characters using regular expressions, by defining them inside square brackets. For example, the pattern [abc] will only match a single a, b, or c letter and nothing else"
   ]
  },
  {
   "cell_type": "markdown",
   "metadata": {},
   "source": [
    "```\n",
    "Match\tcan\t\n",
    "Match\tman\t\n",
    "Match\tfan\t\n",
    "Skip\tdan\t\n",
    "Skip\tran\t\n",
    "Skip\tpan\n",
    "```\n",
    "[cmf]"
   ]
  },
  {
   "cell_type": "markdown",
   "metadata": {},
   "source": [
    "### Lesson 4: Excluding characters\n",
    "\n",
    "To represent this, we use a similar expression that excludes specific characters using the square brackets and the ^ (hat). For example, the pattern [^abc] will match any single character except for the letters a, b, or c."
   ]
  },
  {
   "cell_type": "markdown",
   "metadata": {},
   "source": [
    "```\n",
    "Match\thog\n",
    "Match\tdog\n",
    "Skip\tbog\n",
    "```\n",
    "[^bog]"
   ]
  },
  {
   "cell_type": "markdown",
   "metadata": {
    "collapsed": true
   },
   "source": [
    "### Lesson 5: Character ranges\n",
    "\n",
    " when using the square bracket notation, there is a shorthand for matching a character in list of sequential characters by using the dash to indicate a character range. For example, the pattern [0-6] will only match any single digit character from zero to six, and nothing else. And likewise, [^n-p] will only match any single character except for letters n to p.\n",
    " \n",
    " \n",
    "Task\tText\t \n",
    "Match\tAna\t\n",
    "Match\tBob\t\n",
    "Match\tCpc\t\n",
    "Skip\taax\t\n",
    "Skip\tbby\t\n",
    "Skip\tccz\n",
    "\n",
    "[A-C]"
   ]
  },
  {
   "cell_type": "markdown",
   "metadata": {},
   "source": [
    "### Lesson 6: Catching some zzz's\n",
    "\n",
    "Catching repetion of characters can be done by explicitly spelling out how many we want or a more convenient way is to specify how many repetitions of each character we want using the curly braces notation. For example, a{3} will match the a character exactly three times. Certain regular expression engines will even allow you to specify a range for this repetition such that a{1,3} will match the a character no more than 3 times, but no less than once for example.\n",
    "\n",
    "Match\twazzzzzup\n",
    "Match\twazzzup\n",
    "Skip\twazup\n",
    "\n",
    "z{3}"
   ]
  },
  {
   "cell_type": "markdown",
   "metadata": {},
   "source": [
    "### Lesson 7: Make arbitary number of matches\n",
    "\n",
    "Kleene Star and the Kleene Plus, which essentially represents either 0 or more or 1 or more of the character that it follows (it always follows a character or group). For example, to match the donations above, we can use the pattern \\d* to match any number of digits, but a tighter regular expression would be \\d+ which ensures that the input string has at least one digit.\n",
    "\n",
    "\n",
    "Task\tText\t \n",
    "Match\taaaabcc\t\n",
    "Match\taabbbbc\t\n",
    "Match\taacc\t\n",
    "Skip\ta\n",
    "\n",
    "c+"
   ]
  },
  {
   "cell_type": "markdown",
   "metadata": {},
   "source": [
    "### Lesson 8: Characters optional\n",
    "\n",
    "Another quantifier that is really common when matching and extracting text is the ? (question mark) metacharacter which denotes optionality. This metacharacter allows you to match either zero or one of the preceding character or group. For example, the pattern ab?c will match either the strings \"abc\" or \"ac\" because the b is considered optional.\n",
    "\n",
    "Similar to the dot metacharacter, the question mark is a special character and you will have to escape it using a slash \\? to match a plain question mark character in a string.\n",
    "\n",
    "Match\t1 file found?\t\n",
    "Match\t2 files found?\t\n",
    "Match\t24 files found?\t\n",
    "Skip\tNo files found.\n",
    "\n",
    "\\?\n"
   ]
  },
  {
   "cell_type": "markdown",
   "metadata": {},
   "source": [
    "### Lesson 9: Whitespace\n",
    "\n",
    "The most common forms of whitespace you will use with regular expressions are the space (␣), the tab (\\t), the new line (\\n) and the carriage return (\\r) (useful in Windows environments), and these special characters match each of their respective whitespaces. In addition, a whitespace special character \\s will match any of the specific whitespaces above and is extremely useful when dealing with raw input text.\n",
    "\n",
    "Task\tText\t \n",
    "Match\t1.   abc\t\n",
    "Match\t2.\tabc\t\n",
    "Match\t3.           abc\t\n",
    "Skip\t4.abc\n",
    "\n",
    "\\s"
   ]
  },
  {
   "cell_type": "markdown",
   "metadata": {},
   "source": [
    "### Lesson 10: Start and End\n",
    "\n",
    "best practice to write as specific regular expressions as possible to ensure that we don't get false positives when matching against real world text.\n",
    "\n",
    "One way to tighten our patterns is to define a pattern that describes both the start and the end of the line using the special ^ (hat) and $ (dollar sign) metacharacters.\n",
    "\n",
    "Note that this is different than the hat used inside a set of bracket [^...] for excluding characters, which can be confusing when reading regular expressions.\n",
    "\n",
    "Match\tMission: successful\t\n",
    "Skip\tLast Mission: unsuccessful\t\n",
    "Skip\tNext Mission: successful upon capture of target\n",
    "\n",
    "^Mission"
   ]
  },
  {
   "cell_type": "markdown",
   "metadata": {},
   "source": [
    "### Lesson 11: Matching groups\n",
    "\n",
    "Regular expressions allow us to not just match text but also to extract information for further processing. This is done by defining groups of characters and capturing them using the special parentheses ( and ) metacharacters. Any subpattern inside a pair of parentheses will be captured as a group. In practice, this can be used to extract information like phone numbers or emails from all sorts of data.\n",
    "\n",
    "    Task\tText\tCapture Groups\t \n",
    "    Capture\tfile_record_transcript.pdf\tfile_record_transcript\t\n",
    "    Capture\tfile_07241999.pdf\tfile_07241999\t\n",
    "    Skip\ttestfile_fake.pdf.tmp\n",
    "\n",
    "^(\\w+)\\.pdf$"
   ]
  },
  {
   "cell_type": "markdown",
   "metadata": {},
   "source": [
    "### Lesson 12: Nested Groups\n",
    "\n",
    "When you are working with complex data, you can easily find yourself having to extract multiple layers of information, which can result in nested groups. Generally, the results of the captured groups are in the order in which they are defined (in order by open parenthesis)\n",
    "\n",
    "Capture\tJan 1987\tJan 1987 1987\n",
    "Capture\tMay 1969\tMay 1969 1969\n",
    "Capture\tAug 2011\n",
    "\n",
    "^(\\w{3}\\s(\\d{4}))$"
   ]
  },
  {
   "cell_type": "markdown",
   "metadata": {},
   "source": [
    "### Lesson 13: More group work\n",
    "\n",
    "As you saw in the previous lessons, all the quantifiers including the star *, plus +, repetition {m,n} and the question mark ? can all be used within the capture group patterns. This is the only way to apply quantifiers on sequences of characters instead of the individual characters themselves\n",
    "\n",
    "Task\tText\tCapture Groups\t \n",
    "Capture\t1280x720\t1280 720\t\n",
    "Capture\t1920x1600\t1920 1600\t\n",
    "Capture\t1024x768\t1024 768\n",
    "\n",
    "(\\d+)x(\\d+)"
   ]
  },
  {
   "cell_type": "markdown",
   "metadata": {},
   "source": [
    "### Lesson 14: Conditional\n",
    "\n",
    "Specifically when using groups, you can use the | (logical OR, aka. the pipe) to denote different possible sets of characters.\n",
    "```\n",
    "Match\tI love cats\n",
    "Match\tI love dogs\n",
    "Skip\tI love logs\n",
    "Skip\tI love cogs\n",
    "```\n",
    "I love (cats|dogs)"
   ]
  },
  {
   "cell_type": "markdown",
   "metadata": {},
   "source": [
    "### Lesson 15: Other special characters\n",
    "\n",
    "there is a special metacharacter \\b which matches the boundary between a word and a non-word character. It's most useful in capturing entire words (for example by using the pattern \\w+\\b).\n",
    "\n",
    "One concept that we will not explore in great detail in these lessons is back referencing, mostly because it varies depending on the implementation. However, many systems allow you to reference your captured groups by using \\0 (usually the full matched text), \\1 (group 1), \\2 (group 2), etc. This is useful for example when you are in a text editor and doing a search and replace using regular expressions to swap two numbers, you can search for \"(\\d+)-(\\d+)\" and replace it with \"\\2-\\1\" to put the second captured number first, and the first captured number second for example.\n",
    "\n",
    "Task\tText\t \n",
    "Match\tThe quick brown fox jumps over the lazy dog.\t\n",
    "Match\tThere were 614 instances of students getting 90.0% or above.\t\n",
    "Match\tThe FCC had to censor the network for saying &$#*@!.\n",
    "\n",
    "\\w"
   ]
  },
  {
   "cell_type": "code",
   "execution_count": null,
   "metadata": {
    "collapsed": true
   },
   "outputs": [],
   "source": []
  }
 ],
 "metadata": {
  "kernelspec": {
   "display_name": "Python 3",
   "language": "python",
   "name": "python3"
  },
  "language_info": {
   "codemirror_mode": {
    "name": "ipython",
    "version": 3
   },
   "file_extension": ".py",
   "mimetype": "text/x-python",
   "name": "python",
   "nbconvert_exporter": "python",
   "pygments_lexer": "ipython3",
   "version": "3.5.2"
  }
 },
 "nbformat": 4,
 "nbformat_minor": 2
}
